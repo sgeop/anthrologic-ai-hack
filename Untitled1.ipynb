{
 "cells": [
  {
   "cell_type": "code",
   "execution_count": 1,
   "id": "874caaef-9971-42f4-82ab-c20a935b6cb0",
   "metadata": {},
   "outputs": [
    {
     "name": "stderr",
     "output_type": "stream",
     "text": [
      "[nltk_data] Downloading package words to\n",
      "[nltk_data]     /Users/sean.pietz/nltk_data...\n",
      "[nltk_data]   Package words is already up-to-date!\n"
     ]
    }
   ],
   "source": [
    "from bertopic import BERTopic\n",
    "import polars as pl\n",
    "import pandas as pd\n",
    "import numpy as np\n",
    "import loader"
   ]
  },
  {
   "cell_type": "code",
   "execution_count": 2,
   "id": "41b2fa22-68af-4d68-846e-0f217c97cb20",
   "metadata": {},
   "outputs": [],
   "source": [
    "tickets = loader.get_tickets()"
   ]
  },
  {
   "cell_type": "code",
   "execution_count": 3,
   "id": "2987a3a1-93b5-488e-98c5-ec380e631295",
   "metadata": {},
   "outputs": [],
   "source": [
    "docs = tickets.select(\"text\").to_series().to_list()"
   ]
  },
  {
   "cell_type": "code",
   "execution_count": 4,
   "id": "9e3d6319-c09c-4694-adf6-5ed963a2a4a4",
   "metadata": {},
   "outputs": [
    {
     "data": {
      "application/vnd.jupyter.widget-view+json": {
       "model_id": "2bae6d2ebac04f1294a27bf299739b1b",
       "version_major": 2,
       "version_minor": 0
      },
      "text/plain": [
       "Batches:   0%|          | 0/54 [00:00<?, ?it/s]"
      ]
     },
     "metadata": {},
     "output_type": "display_data"
    }
   ],
   "source": [
    "from sentence_transformers import SentenceTransformer\n",
    "\n",
    "# Pre-calculate embeddings\n",
    "embedding_model = SentenceTransformer(\"all-MiniLM-L6-v2\")\n",
    "embeddings = embedding_model.encode(docs, show_progress_bar=True)"
   ]
  },
  {
   "cell_type": "code",
   "execution_count": 5,
   "id": "788cd800-c129-4ef0-9fa8-536af8bd317a",
   "metadata": {},
   "outputs": [],
   "source": [
    "# from umap import UMAP\n",
    "\n",
    "# umap_model = UMAP(n_neighbors=15, n_components=5, min_dist=0.0, metric='cosine', random_state=42)"
   ]
  },
  {
   "cell_type": "code",
   "execution_count": 6,
   "id": "e8908b9c-9685-41f0-ba46-cc3be6c66868",
   "metadata": {},
   "outputs": [],
   "source": [
    "from hdbscan import HDBSCAN\n",
    "\n",
    "hdbscan_model = HDBSCAN(min_cluster_size=50, metric='euclidean', cluster_selection_method='eom', prediction_data=True)"
   ]
  },
  {
   "cell_type": "code",
   "execution_count": 7,
   "id": "795ce28f-99d7-40a2-aae0-4d37c3efddd6",
   "metadata": {},
   "outputs": [],
   "source": [
    "from bertopic import BERTopic\n",
    "from bertopic.vectorizers import ClassTfidfTransformer\n",
    "\n",
    "ctfidf_model = ClassTfidfTransformer(reduce_frequent_words=True)"
   ]
  },
  {
   "cell_type": "code",
   "execution_count": 8,
   "id": "5ede4645-38b7-4c1e-bc15-ae793e730bdd",
   "metadata": {},
   "outputs": [
    {
     "name": "stderr",
     "output_type": "stream",
     "text": [
      "Device set to use mps:0\n"
     ]
    }
   ],
   "source": [
    "from transformers import pipeline\n",
    "from bertopic.representation import TextGeneration\n",
    "\n",
    "prompt = \"I have a topic described by the following keywords: [KEYWORDS]. Based on the previous keywords, what is this topic about?\"\n",
    "\n",
    "# Create your representation model\n",
    "generator = pipeline('text2text-generation', model='google/flan-t5-base')\n",
    "representation_model = TextGeneration(generator)"
   ]
  },
  {
   "cell_type": "code",
   "execution_count": 9,
   "id": "0d196764-0125-462b-845f-375cc9748caf",
   "metadata": {},
   "outputs": [
    {
     "name": "stderr",
     "output_type": "stream",
     "text": [
      "OMP: Info #276: omp_set_nested routine deprecated, please use omp_set_max_active_levels instead.\n"
     ]
    }
   ],
   "source": [
    "topic_model = BERTopic(\n",
    "    embedding_model=embedding_model,\n",
    "    hdbscan_model=hdbscan_model,\n",
    "    representation_model=representation_model,\n",
    ")\n",
    "topics, probs = topic_model.fit_transform(docs, embeddings)"
   ]
  },
  {
   "cell_type": "code",
   "execution_count": 10,
   "id": "145b66a5-946e-4069-b14c-551afa13ec20",
   "metadata": {},
   "outputs": [
    {
     "data": {
      "text/html": [
       "<div>\n",
       "<style scoped>\n",
       "    .dataframe tbody tr th:only-of-type {\n",
       "        vertical-align: middle;\n",
       "    }\n",
       "\n",
       "    .dataframe tbody tr th {\n",
       "        vertical-align: top;\n",
       "    }\n",
       "\n",
       "    .dataframe thead th {\n",
       "        text-align: right;\n",
       "    }\n",
       "</style>\n",
       "<table border=\"1\" class=\"dataframe\">\n",
       "  <thead>\n",
       "    <tr style=\"text-align: right;\">\n",
       "      <th></th>\n",
       "      <th>Topic</th>\n",
       "      <th>Count</th>\n",
       "      <th>Name</th>\n",
       "      <th>Representation</th>\n",
       "      <th>Representative_Docs</th>\n",
       "    </tr>\n",
       "  </thead>\n",
       "  <tbody>\n",
       "    <tr>\n",
       "      <th>0</th>\n",
       "      <td>-1</td>\n",
       "      <td>421</td>\n",
       "      <td>-1_perelelhealth___</td>\n",
       "      <td>[perelelhealth, , , , , , , , , ]</td>\n",
       "      <td>[When will my new vitimans arrive Isabella Stu...</td>\n",
       "    </tr>\n",
       "    <tr>\n",
       "      <th>1</th>\n",
       "      <td>0</td>\n",
       "      <td>267</td>\n",
       "      <td>0_cancel my subscription to vitamins___</td>\n",
       "      <td>[cancel my subscription to vitamins, , , , , ,...</td>\n",
       "      <td>[I have been unable to take these due to the s...</td>\n",
       "    </tr>\n",
       "    <tr>\n",
       "      <th>2</th>\n",
       "      <td>1</td>\n",
       "      <td>247</td>\n",
       "      <td>1_pregnancy___</td>\n",
       "      <td>[pregnancy, , , , , , , , , ]</td>\n",
       "      <td>[Hello I just received my second trimester pac...</td>\n",
       "    </tr>\n",
       "    <tr>\n",
       "      <th>3</th>\n",
       "      <td>2</td>\n",
       "      <td>213</td>\n",
       "      <td>2_i need vitamins for my trimester___</td>\n",
       "      <td>[i need vitamins for my trimester, , , , , , ,...</td>\n",
       "      <td>[Hi there I have recently started taking the 1...</td>\n",
       "    </tr>\n",
       "    <tr>\n",
       "      <th>4</th>\n",
       "      <td>3</td>\n",
       "      <td>194</td>\n",
       "      <td>3_perelelhealth___</td>\n",
       "      <td>[perelelhealth, , , , , , , , , ]</td>\n",
       "      <td>[Hi there I would like to return my order as I...</td>\n",
       "    </tr>\n",
       "    <tr>\n",
       "      <th>5</th>\n",
       "      <td>4</td>\n",
       "      <td>155</td>\n",
       "      <td>4_thank you for taking vitamins___</td>\n",
       "      <td>[thank you for taking vitamins, , , , , , , , , ]</td>\n",
       "      <td>[Hi I would like to return my order. I really ...</td>\n",
       "    </tr>\n",
       "    <tr>\n",
       "      <th>6</th>\n",
       "      <td>5</td>\n",
       "      <td>81</td>\n",
       "      <td>5_perelelhealth___</td>\n",
       "      <td>[perelelhealth, , , , , , , , , ]</td>\n",
       "      <td>[Hi when I received my order the concealed top...</td>\n",
       "    </tr>\n",
       "    <tr>\n",
       "      <th>7</th>\n",
       "      <td>6</td>\n",
       "      <td>69</td>\n",
       "      <td>6_maternity pack missing pills___</td>\n",
       "      <td>[maternity pack missing pills, , , , , , , , , ]</td>\n",
       "      <td>[Hello I wanted to let you all know about an i...</td>\n",
       "    </tr>\n",
       "    <tr>\n",
       "      <th>8</th>\n",
       "      <td>7</td>\n",
       "      <td>67</td>\n",
       "      <td>7_i want to pack my tummy___</td>\n",
       "      <td>[i want to pack my tummy, , , , , , , , , ]</td>\n",
       "      <td>[Hello I am a new customer and tried the prena...</td>\n",
       "    </tr>\n",
       "  </tbody>\n",
       "</table>\n",
       "</div>"
      ],
      "text/plain": [
       "   Topic  Count                                     Name  \\\n",
       "0     -1    421                      -1_perelelhealth___   \n",
       "1      0    267  0_cancel my subscription to vitamins___   \n",
       "2      1    247                           1_pregnancy___   \n",
       "3      2    213    2_i need vitamins for my trimester___   \n",
       "4      3    194                       3_perelelhealth___   \n",
       "5      4    155       4_thank you for taking vitamins___   \n",
       "6      5     81                       5_perelelhealth___   \n",
       "7      6     69        6_maternity pack missing pills___   \n",
       "8      7     67             7_i want to pack my tummy___   \n",
       "\n",
       "                                      Representation  \\\n",
       "0                  [perelelhealth, , , , , , , , , ]   \n",
       "1  [cancel my subscription to vitamins, , , , , ,...   \n",
       "2                      [pregnancy, , , , , , , , , ]   \n",
       "3  [i need vitamins for my trimester, , , , , , ,...   \n",
       "4                  [perelelhealth, , , , , , , , , ]   \n",
       "5  [thank you for taking vitamins, , , , , , , , , ]   \n",
       "6                  [perelelhealth, , , , , , , , , ]   \n",
       "7   [maternity pack missing pills, , , , , , , , , ]   \n",
       "8        [i want to pack my tummy, , , , , , , , , ]   \n",
       "\n",
       "                                 Representative_Docs  \n",
       "0  [When will my new vitimans arrive Isabella Stu...  \n",
       "1  [I have been unable to take these due to the s...  \n",
       "2  [Hello I just received my second trimester pac...  \n",
       "3  [Hi there I have recently started taking the 1...  \n",
       "4  [Hi there I would like to return my order as I...  \n",
       "5  [Hi I would like to return my order. I really ...  \n",
       "6  [Hi when I received my order the concealed top...  \n",
       "7  [Hello I wanted to let you all know about an i...  \n",
       "8  [Hello I am a new customer and tried the prena...  "
      ]
     },
     "execution_count": 10,
     "metadata": {},
     "output_type": "execute_result"
    }
   ],
   "source": [
    "topic_model.get_topic_info()"
   ]
  },
  {
   "cell_type": "code",
   "execution_count": 11,
   "id": "1556984b-21fd-473c-9f36-7ab917dcd672",
   "metadata": {},
   "outputs": [
    {
     "data": {
      "text/plain": [
       "{'Main': [('pregnancy', 1),\n",
       "  ('', 0),\n",
       "  ('', 0),\n",
       "  ('', 0),\n",
       "  ('', 0),\n",
       "  ('', 0),\n",
       "  ('', 0),\n",
       "  ('', 0),\n",
       "  ('', 0),\n",
       "  ('', 0)]}"
      ]
     },
     "execution_count": 11,
     "metadata": {},
     "output_type": "execute_result"
    }
   ],
   "source": [
    "topic_model.get_topic(1, full=True)"
   ]
  },
  {
   "cell_type": "code",
   "execution_count": null,
   "id": "fc056d22-1456-4f7d-84ba-f780c894b322",
   "metadata": {},
   "outputs": [],
   "source": []
  }
 ],
 "metadata": {
  "kernelspec": {
   "display_name": "Python 3 (ipykernel)",
   "language": "python",
   "name": "python3"
  },
  "language_info": {
   "codemirror_mode": {
    "name": "ipython",
    "version": 3
   },
   "file_extension": ".py",
   "mimetype": "text/x-python",
   "name": "python",
   "nbconvert_exporter": "python",
   "pygments_lexer": "ipython3",
   "version": "3.12.9"
  }
 },
 "nbformat": 4,
 "nbformat_minor": 5
}
