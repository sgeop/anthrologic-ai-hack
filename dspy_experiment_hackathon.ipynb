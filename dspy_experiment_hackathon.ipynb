{
 "cells": [
  {
   "cell_type": "code",
   "execution_count": null,
   "id": "10429cd7-e6b5-4c18-a06f-6c415942ebee",
   "metadata": {},
   "outputs": [],
   "source": [
    "import dspy\n",
    "import os\n",
    "from typing import Literal"
   ]
  },
  {
   "cell_type": "code",
   "execution_count": null,
   "id": "64b75d78-02dc-469b-a529-b9c0e916b5a9",
   "metadata": {},
   "outputs": [],
   "source": [
    "api_key=os.getenv(\"OPENAI_API_KEY\")"
   ]
  },
  {
   "cell_type": "code",
   "execution_count": null,
   "id": "94344313-eaa1-4aea-ba27-ff2cf6bceb91",
   "metadata": {},
   "outputs": [],
   "source": [
    "# lm = dspy.LM('openai/gpt-4o-mini', api_key=api_key)\n",
    "lm = dspy.LM('ollama_chat/llama3.2', api_base='http://localhost:11434', api_key='')\n",
    "dspy.configure(lm=lm)"
   ]
  },
  {
   "cell_type": "code",
   "execution_count": null,
   "id": "fa9dc1a5-c988-4ad5-b4ba-19cbdcbe92c6",
   "metadata": {},
   "outputs": [],
   "source": [
    "math = dspy.ChainOfThought(\"question -> answer: float\")\n",
    "math(question=\"Two dice are tossed. What is the probability that the sum equals two?\")"
   ]
  },
  {
   "cell_type": "code",
   "execution_count": null,
   "id": "19795818-96b3-4837-be2c-33e9a89e7806",
   "metadata": {},
   "outputs": [],
   "source": [
    "from typing import Literal\n",
    "\n",
    "class Classify(dspy.Signature):\n",
    "    \"\"\"Classify sentiment of a given sentence.\"\"\"\n",
    "\n",
    "    sentence: str = dspy.InputField()\n",
    "    sentiment: Literal['positive', 'negative', 'neutral'] = dspy.OutputField()\n",
    "    confidence: float = dspy.OutputField()\n",
    "\n",
    "classify = dspy.Predict(Classify)\n",
    "classify(sentence=\"This book was super fun to read, though not the last chapter.\")"
   ]
  },
  {
   "cell_type": "code",
   "execution_count": null,
   "id": "7669a8d4-4e59-4ca0-ac21-0c09a9bd1b5f",
   "metadata": {},
   "outputs": [],
   "source": [
    "class Tagged(dspy.Signature):\n",
    "    body_text: str = dspy.InputField()\n",
    "    # input_tags: str = dspy.InputField()\n",
    "    tag: Literal[\n",
    "        \"Side Effects\"\n",
    "        \"Product Issues\",\n",
    "        \"Account & Orders\",\n",
    "        \"Customer Service\",\n",
    "        \"Product Information\",\n",
    "        \"System & Administrative\"\n",
    "    ] = dspy.OutputField()\n",
    "    confidence: float = dspy.OutputField()"
   ]
  },
  {
   "cell_type": "code",
   "execution_count": null,
   "id": "e3d67c0e-c697-4183-abb7-e618e831fd14",
   "metadata": {},
   "outputs": [],
   "source": [
    "import ibis\n",
    "ibis.options.interactive = True\n",
    "\n",
    "tickets = ibis.read_csv(\"tickets.csv\")"
   ]
  },
  {
   "cell_type": "code",
   "execution_count": null,
   "id": "e23e4404-26eb-43b4-bb8d-a2cb5c4b0150",
   "metadata": {},
   "outputs": [],
   "source": [
    "ticket_1 = tickets.limit(1)\n",
    "ticket_1.body_text\n"
   ]
  },
  {
   "cell_type": "code",
   "execution_count": null,
   "id": "a1998223-d3b0-4b27-bdb8-cd4e36d2e4d2",
   "metadata": {
    "scrolled": true
   },
   "outputs": [],
   "source": [
    "tag = dspy.Predict(Tagged)\n",
    "tag(body_text=text_0.)"
   ]
  },
  {
   "cell_type": "code",
   "execution_count": null,
   "id": "fad13d00-a6c1-4468-b3b9-101fdec565e1",
   "metadata": {},
   "outputs": [],
   "source": [
    "t1 = tickets.limit(1)"
   ]
  },
  {
   "cell_type": "code",
   "execution_count": null,
   "id": "1ec7ac28-30e5-499c-895f-da970093e7f1",
   "metadata": {},
   "outputs": [],
   "source": [
    "t1_text = t1.body_text.as_scalar()\n",
    "t1_tags = t1.tags.as_scalar()"
   ]
  },
  {
   "cell_type": "code",
   "execution_count": null,
   "id": "193049b3-02f5-4ef7-a31f-7a3206729ca9",
   "metadata": {},
   "outputs": [],
   "source": [
    "tag(body_text=t1_text, tags = t1_tags)"
   ]
  },
  {
   "cell_type": "code",
   "execution_count": null,
   "id": "11953631-5031-4e0f-bcca-5a837a26a984",
   "metadata": {},
   "outputs": [],
   "source": [
    "tlim = tickets.limit(20).to_pandas()\n",
    "for row in tlim.iterrows():\n",
    "    print(row[1])"
   ]
  },
  {
   "cell_type": "code",
   "execution_count": null,
   "id": "601ecbda-7a6d-4ec2-977a-23f05433a56e",
   "metadata": {},
   "outputs": [],
   "source": [
    "for row in tlim.rows:\n",
    "    row['body_text']"
   ]
  },
  {
   "cell_type": "code",
   "execution_count": null,
   "id": "6cf39561-7925-42c1-ac35-fca3c4bde30c",
   "metadata": {},
   "outputs": [],
   "source": []
  }
 ],
 "metadata": {
  "kernelspec": {
   "display_name": "Python 3 (ipykernel)",
   "language": "python",
   "name": "python3"
  },
  "language_info": {
   "codemirror_mode": {
    "name": "ipython",
    "version": 3
   },
   "file_extension": ".py",
   "mimetype": "text/x-python",
   "name": "python",
   "nbconvert_exporter": "python",
   "pygments_lexer": "ipython3",
   "version": "3.12.9"
  }
 },
 "nbformat": 4,
 "nbformat_minor": 5
}
