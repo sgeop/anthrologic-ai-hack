{
 "cells": [
  {
   "cell_type": "code",
   "execution_count": 1,
   "id": "35e47349-a5da-4d2e-aeee-c9eeb2b8ff69",
   "metadata": {},
   "outputs": [],
   "source": [
    "import polars as pl"
   ]
  },
  {
   "cell_type": "code",
   "execution_count": null,
   "id": "4036cb2e-4d6b-4cb6-81e7-cf4d062ebf0b",
   "metadata": {},
   "outputs": [],
   "source": [
    "def normalize(tag: str) -> str:\n",
    "    parts = tag.split('/')\n",
    "    return parts"
   ]
  },
  {
   "cell_type": "code",
   "execution_count": null,
   "id": "c4f74e04-bafb-455f-9344-42e2c0c8057e",
   "metadata": {},
   "outputs": [],
   "source": [
    "tickets = pl.read_csv(\"tickets.csv\")"
   ]
  },
  {
   "cell_type": "code",
   "execution_count": null,
   "id": "d61b5fde-307b-4175-9e13-78012a89d378",
   "metadata": {},
   "outputs": [],
   "source": [
    "tickets.with_columns(pl.select(pl.col('tags')).str.split(\",\").alias(\"tags_list\"))"
   ]
  },
  {
   "cell_type": "code",
   "execution_count": null,
   "id": "f2edc5b8-c200-475c-88d9-65e70e121c8e",
   "metadata": {},
   "outputs": [],
   "source": [
    "tickets.columns"
   ]
  },
  {
   "cell_type": "code",
   "execution_count": null,
   "id": "471f1c09-ea15-40f3-9ad6-87589a2f256a",
   "metadata": {},
   "outputs": [],
   "source": [
    "def tags_listed(alias: str):\n",
    "    strip_lower = pl.element().str.strip_chars(\" \").str.to_lowercase().str.replace(r\"\\s\", \"-\")\n",
    "    foreach_tag = pl.element().str.split(\"/\").list.eval(strip_lower).list.join(\"/\")\n",
    "    select_tags = pl.col(\"tags\").str.split(\",\").list.eval(foreach_tag).alias(alias)\n",
    "    return tickets.select(select_tags)\n",
    "\n",
    "# tickets.select(pl.col(\"tags\").str.split(\",\").list.eval(pl.element().str.strip_chars(\" \").str.to_lowercase()))\n",
    "# tickets.with_columns(tickets.select(\n",
    "#     pl.col(\"tags\").str.split(\",\").list.eval(strip_lower)\n",
    "# ))\n",
    "\n",
    "tickets = tickets.with_columns(tags_listed(\"tags_list\"))"
   ]
  },
  {
   "cell_type": "code",
   "execution_count": null,
   "id": "1d4b4c29-60e4-403c-93e0-c7d6ed2ca509",
   "metadata": {},
   "outputs": [],
   "source": [
    "tickets.select(pl.col(\"ticket_id\"), pl.col(\"tags_list\")).explode(\"tags_list\")"
   ]
  },
  {
   "cell_type": "code",
   "execution_count": null,
   "id": "71cb20cb-8b4e-45ad-bcc2-881166c8d0f4",
   "metadata": {},
   "outputs": [],
   "source": [
    "tags = tickets.explode(\"tags_list\").select(pl.col(\"tags_list\").alias(\"tag\"), pl.\n",
    "\n",
    "tags"
   ]
  },
  {
   "cell_type": "code",
   "execution_count": 2,
   "id": "9c4cb67c-0673-448e-84bb-e198f756484f",
   "metadata": {},
   "outputs": [],
   "source": [
    "import load_data"
   ]
  },
  {
   "cell_type": "code",
   "execution_count": null,
   "id": "33affd6d-99bb-422a-b279-73f6d0f7b46c",
   "metadata": {},
   "outputs": [],
   "source": [
    "def ticks_list():\n",
    "    strip_lower = pl.element().str.strip_chars(\" \").str.to_lowercase().str.replace(r\"\\s\", \"-\")\n",
    "    foreach_tag = pl.element().str.split(\"/\").list.eval(strip_lower).list.join(\"/\")\n",
    "    select_tags = pl.col(\"tags\").str.split(\",\").list.eval(foreach_tag)\n",
    "    return select_tags\n",
    "\n",
    "def clean_tags():\n",
    "    normalize = pl.element().str.strip_chars(\" \").str.to_lowercase().str.replace(r\"\\s\", \"-\")\n",
    "    clean_tag = pl.element().str.split(\"/\").list.eval(normalize).list.join(\"/\")\n",
    "    q = pl.col(\"tags\").str.split(\",\").list.eval(clean_tag)\n",
    "    return q\n"
   ]
  },
  {
   "cell_type": "code",
   "execution_count": 3,
   "id": "eecbdf76-84d5-4f4b-a54e-8c3adf81c17d",
   "metadata": {},
   "outputs": [
    {
     "data": {
      "text/html": [
       "<div><style>\n",
       ".dataframe > thead > tr,\n",
       ".dataframe > tbody > tr {\n",
       "  text-align: right;\n",
       "  white-space: pre-wrap;\n",
       "}\n",
       "</style>\n",
       "<small>shape: (1_728, 4)</small><table border=\"1\" class=\"dataframe\"><thead><tr><th>ticket_id</th><th>subject</th><th>body_text</th><th>tags</th></tr><tr><td>i64</td><td>str</td><td>str</td><td>list[str]</td></tr></thead><tbody><tr><td>348342800</td><td>&quot;Shipment&quot;</td><td>&quot;Hello,\n",
       "\n",
       "I’m currently out of t…</td><td>[&quot;general-product/safety&quot;, &quot;complaint/heat&quot;]</td></tr><tr><td>348344318</td><td>&quot;issue with order -ORDER NO. #6…</td><td>&quot;hi there! i placed an order an…</td><td>[&quot;urgent&quot;, &quot;internal/log&quot;, … &quot;wcon-p&quot;]</td></tr><tr><td>343560310</td><td>&quot;Re: Order #579121 confirmed&quot;</td><td>&quot;Hello, \n",
       "I still haven’t receiv…</td><td>[&quot;complaint/smell-taste&quot;, &quot;complaint-date/2024-08-17&quot;, … &quot;order/promo&quot;]</td></tr><tr><td>348376971</td><td>&quot;Fwd: A shipment from order #61…</td><td>&quot;Hello, \n",
       "Please cancel this shi…</td><td>[&quot;urgent&quot;, &quot;refund/denied&quot;, … &quot;wtr1-p&quot;]</td></tr><tr><td>348388616</td><td>&quot;Issue with pack&quot;</td><td>&quot;Hi, \n",
       "\n",
       "I ordered the first trim…</td><td>[&quot;internal/log&quot;, &quot;complaint/smell-taste&quot;, … &quot;other/fishy&quot;]</td></tr><tr><td>&hellip;</td><td>&hellip;</td><td>&hellip;</td><td>&hellip;</td></tr><tr><td>368741112</td><td>&quot;786242 damaged product&quot;</td><td>&quot;\n",
       "\n",
       "\n",
       "\n",
       "\n",
       "Sent from my iPhone&quot;</td><td>[&quot;complaint/damaged&quot;, &quot;email&quot;]</td></tr><tr><td>368742742</td><td>&quot;Cancel subscription&quot;</td><td>&quot;Hi,\n",
       "\n",
       "I’d like to cancel my sub…</td><td>[&quot;siena/stop-response&quot;, &quot;cancel/no-reason&quot;, … &quot;complaint-date/2024-12-31&quot;]</td></tr><tr><td>368762239</td><td>&quot;Return item&quot;</td><td>&quot;Return item \n",
       "-----------------…</td><td>[&quot;#675926&quot;, &quot;complaint/side-effects&quot;, … &quot;offline-capture&quot;]</td></tr><tr><td>368766370</td><td>&quot;Fwd: A shipment from order #78…</td><td>&quot;Hi, \n",
       "\n",
       "Unfortunately this makes…</td><td>[&quot;cancel/do-not-like&quot;, &quot;email&quot;, … &quot;complaint/nausea&quot;]</td></tr><tr><td>368785518</td><td>&quot;Re: Order #793880 confirmed&quot;</td><td>&quot;Hi there - \n",
       "\n",
       "I think I may hav…</td><td>[&quot;general-product/product&quot;, &quot;internal/log&quot;, … &quot;wcon-p&quot;]</td></tr></tbody></table></div>"
      ],
      "text/plain": [
       "shape: (1_728, 4)\n",
       "┌───────────┬────────────────────────────┬────────────────────────────┬────────────────────────────┐\n",
       "│ ticket_id ┆ subject                    ┆ body_text                  ┆ tags                       │\n",
       "│ ---       ┆ ---                        ┆ ---                        ┆ ---                        │\n",
       "│ i64       ┆ str                        ┆ str                        ┆ list[str]                  │\n",
       "╞═══════════╪════════════════════════════╪════════════════════════════╪════════════════════════════╡\n",
       "│ 348342800 ┆ Shipment                   ┆ Hello,                     ┆ [\"general-product/safety\", │\n",
       "│           ┆                            ┆                            ┆ \"co…                       │\n",
       "│           ┆                            ┆ I’m currently out of t…    ┆                            │\n",
       "│ 348344318 ┆ issue with order -ORDER    ┆ hi there! i placed an      ┆ [\"urgent\", \"internal/log\", │\n",
       "│           ┆ NO. #6…                    ┆ order an…                  ┆ … \"…                       │\n",
       "│ 343560310 ┆ Re: Order #579121          ┆ Hello,                     ┆ [\"complaint/smell-taste\",  │\n",
       "│           ┆ confirmed                  ┆ I still haven’t receiv…    ┆ \"com…                      │\n",
       "│ 348376971 ┆ Fwd: A shipment from order ┆ Hello,                     ┆ [\"urgent\",                 │\n",
       "│           ┆ #61…                       ┆ Please cancel this shi…    ┆ \"refund/denied\", … …       │\n",
       "│ 348388616 ┆ Issue with pack            ┆ Hi,                        ┆ [\"internal/log\",           │\n",
       "│           ┆                            ┆                            ┆ \"complaint/sm…             │\n",
       "│           ┆                            ┆ I ordered the first trim…  ┆                            │\n",
       "│ …         ┆ …                          ┆ …                          ┆ …                          │\n",
       "│ 368741112 ┆ 786242 damaged product     ┆                            ┆ [\"complaint/damaged\",      │\n",
       "│           ┆                            ┆                            ┆ \"email\"]                   │\n",
       "│           ┆                            ┆                            ┆                            │\n",
       "│           ┆                            ┆                            ┆                            │\n",
       "│           ┆                            ┆                            ┆                            │\n",
       "│           ┆                            ┆ Sent from my iPhone        ┆                            │\n",
       "│ 368742742 ┆ Cancel subscription        ┆ Hi,                        ┆ [\"siena/stop-response\",    │\n",
       "│           ┆                            ┆                            ┆ \"cance…                    │\n",
       "│           ┆                            ┆ I’d like to cancel my sub… ┆                            │\n",
       "│ 368762239 ┆ Return item                ┆ Return item                ┆ [\"#675926\",                │\n",
       "│           ┆                            ┆ -----------------…         ┆ \"complaint/side-ef…        │\n",
       "│ 368766370 ┆ Fwd: A shipment from order ┆ Hi,                        ┆ [\"cancel/do-not-like\",     │\n",
       "│           ┆ #78…                       ┆                            ┆ \"email\"…                   │\n",
       "│           ┆                            ┆ Unfortunately this makes…  ┆                            │\n",
       "│ 368785518 ┆ Re: Order #793880          ┆ Hi there -                 ┆ [\"general-product/product\" │\n",
       "│           ┆ confirmed                  ┆                            ┆ , \"i…                      │\n",
       "│           ┆                            ┆ I think I may hav…         ┆                            │\n",
       "└───────────┴────────────────────────────┴────────────────────────────┴────────────────────────────┘"
      ]
     },
     "execution_count": 3,
     "metadata": {},
     "output_type": "execute_result"
    }
   ],
   "source": [
    "tickets = load_data.get_tickets()\n",
    "# tickets = pl.read_csv(\"data/tickets.csv\")\n",
    "tickets"
   ]
  },
  {
   "cell_type": "code",
   "execution_count": 9,
   "id": "11932565-39b7-47be-bac8-6a6855d663ba",
   "metadata": {},
   "outputs": [
    {
     "data": {
      "text/html": [
       "<div><style>\n",
       ".dataframe > thead > tr,\n",
       ".dataframe > tbody > tr {\n",
       "  text-align: right;\n",
       "  white-space: pre-wrap;\n",
       "}\n",
       "</style>\n",
       "<small>shape: (1_699, 3)</small><table border=\"1\" class=\"dataframe\"><thead><tr><th>tag</th><th>count</th><th>ticket_ids</th></tr><tr><td>str</td><td>u32</td><td>list[i64]</td></tr></thead><tbody><tr><td>&quot;internal/log&quot;</td><td>1556</td><td>[348344318, 343560310, … 368785518]</td></tr><tr><td>&quot;cancel/do-not-like&quot;</td><td>753</td><td>[343560310, 348405986, … 368766370]</td></tr><tr><td>&quot;refund/30-day&quot;</td><td>752</td><td>[343560310, 348405986, … 368766370]</td></tr><tr><td>&quot;complaint/smell-taste&quot;</td><td>715</td><td>[343560310, 348388616, … 368742742]</td></tr><tr><td>&quot;wtr1-p&quot;</td><td>625</td><td>[343560310, 348376971, … 368742742]</td></tr><tr><td>&hellip;</td><td>&hellip;</td><td>&hellip;</td></tr><tr><td>&quot;#620217&quot;</td><td>1</td><td>[358387695]</td></tr><tr><td>&quot;#739333&quot;</td><td>1</td><td>[362368791]</td></tr><tr><td>&quot;#680141&quot;</td><td>1</td><td>[356651966]</td></tr><tr><td>&quot;#673400&quot;</td><td>1</td><td>[355406153]</td></tr><tr><td>&quot;#669969&quot;</td><td>1</td><td>[355780274]</td></tr></tbody></table></div>"
      ],
      "text/plain": [
       "shape: (1_699, 3)\n",
       "┌───────────────────────┬───────┬─────────────────────────────────┐\n",
       "│ tag                   ┆ count ┆ ticket_ids                      │\n",
       "│ ---                   ┆ ---   ┆ ---                             │\n",
       "│ str                   ┆ u32   ┆ list[i64]                       │\n",
       "╞═══════════════════════╪═══════╪═════════════════════════════════╡\n",
       "│ internal/log          ┆ 1556  ┆ [348344318, 343560310, … 36878… │\n",
       "│ cancel/do-not-like    ┆ 753   ┆ [343560310, 348405986, … 36876… │\n",
       "│ refund/30-day         ┆ 752   ┆ [343560310, 348405986, … 36876… │\n",
       "│ complaint/smell-taste ┆ 715   ┆ [343560310, 348388616, … 36874… │\n",
       "│ wtr1-p                ┆ 625   ┆ [343560310, 348376971, … 36874… │\n",
       "│ …                     ┆ …     ┆ …                               │\n",
       "│ #620217               ┆ 1     ┆ [358387695]                     │\n",
       "│ #739333               ┆ 1     ┆ [362368791]                     │\n",
       "│ #680141               ┆ 1     ┆ [356651966]                     │\n",
       "│ #673400               ┆ 1     ┆ [355406153]                     │\n",
       "│ #669969               ┆ 1     ┆ [355780274]                     │\n",
       "└───────────────────────┴───────┴─────────────────────────────────┘"
      ]
     },
     "execution_count": 9,
     "metadata": {},
     "output_type": "execute_result"
    }
   ],
   "source": [
    "tickets.explode(\"tags\").group_by(pl.col(\"tags\").alias(\"tag\")).agg(\n",
    "    pl.len().alias(\"count\"),\n",
    "    pl.col(\"ticket_id\").alias(\"ticket_ids\"),\n",
    ").sort(\"count\", descending=True)"
   ]
  },
  {
   "cell_type": "code",
   "execution_count": 17,
   "id": "e91dce36-2bdb-481a-9668-496a8a292768",
   "metadata": {},
   "outputs": [],
   "source": [
    "df = tickets.select(pl.col(\"ticket_id\"), pl.col(\"body_text\"), pl.col(\"tags\")).to_pandas()"
   ]
  },
  {
   "cell_type": "code",
   "execution_count": 19,
   "id": "d8802068-3e02-497e-9653-c24cb4f55122",
   "metadata": {},
   "outputs": [
    {
     "data": {
      "text/html": [
       "<div>\n",
       "<style scoped>\n",
       "    .dataframe tbody tr th:only-of-type {\n",
       "        vertical-align: middle;\n",
       "    }\n",
       "\n",
       "    .dataframe tbody tr th {\n",
       "        vertical-align: top;\n",
       "    }\n",
       "\n",
       "    .dataframe thead th {\n",
       "        text-align: right;\n",
       "    }\n",
       "</style>\n",
       "<table border=\"1\" class=\"dataframe\">\n",
       "  <thead>\n",
       "    <tr style=\"text-align: right;\">\n",
       "      <th></th>\n",
       "      <th>ticket_id</th>\n",
       "      <th>body_text</th>\n",
       "      <th>tags</th>\n",
       "    </tr>\n",
       "  </thead>\n",
       "  <tbody>\n",
       "    <tr>\n",
       "      <th>0</th>\n",
       "      <td>348342800</td>\n",
       "      <td>Hello,\\n\\nI’m currently out of the country wil...</td>\n",
       "      <td>[general-product/safety, complaint/heat]</td>\n",
       "    </tr>\n",
       "    <tr>\n",
       "      <th>1</th>\n",
       "      <td>348344318</td>\n",
       "      <td>hi there! i placed an order and only part of t...</td>\n",
       "      <td>[urgent, internal/log, complaint/quality, repl...</td>\n",
       "    </tr>\n",
       "    <tr>\n",
       "      <th>2</th>\n",
       "      <td>343560310</td>\n",
       "      <td>Hello, \\nI still haven’t received my refund. A...</td>\n",
       "      <td>[complaint/smell-taste, complaint-date/2024-08...</td>\n",
       "    </tr>\n",
       "    <tr>\n",
       "      <th>3</th>\n",
       "      <td>348376971</td>\n",
       "      <td>Hello, \\nPlease cancel this shipment and send ...</td>\n",
       "      <td>[urgent, refund/denied, no-csat, refund/courte...</td>\n",
       "    </tr>\n",
       "    <tr>\n",
       "      <th>4</th>\n",
       "      <td>348388616</td>\n",
       "      <td>Hi, \\n\\nI ordered the first trimester pack and...</td>\n",
       "      <td>[internal/log, complaint/smell-taste, wtr1-p, ...</td>\n",
       "    </tr>\n",
       "  </tbody>\n",
       "</table>\n",
       "</div>"
      ],
      "text/plain": [
       "   ticket_id                                          body_text  \\\n",
       "0  348342800  Hello,\\n\\nI’m currently out of the country wil...   \n",
       "1  348344318  hi there! i placed an order and only part of t...   \n",
       "2  343560310  Hello, \\nI still haven’t received my refund. A...   \n",
       "3  348376971  Hello, \\nPlease cancel this shipment and send ...   \n",
       "4  348388616  Hi, \\n\\nI ordered the first trimester pack and...   \n",
       "\n",
       "                                                tags  \n",
       "0           [general-product/safety, complaint/heat]  \n",
       "1  [urgent, internal/log, complaint/quality, repl...  \n",
       "2  [complaint/smell-taste, complaint-date/2024-08...  \n",
       "3  [urgent, refund/denied, no-csat, refund/courte...  \n",
       "4  [internal/log, complaint/smell-taste, wtr1-p, ...  "
      ]
     },
     "execution_count": 19,
     "metadata": {},
     "output_type": "execute_result"
    }
   ],
   "source": [
    "df[:5]"
   ]
  },
  {
   "cell_type": "code",
   "execution_count": 26,
   "id": "c6fd0209-6d85-4a34-94a8-edb8c03247d2",
   "metadata": {},
   "outputs": [
    {
     "name": "stdout",
     "output_type": "stream",
     "text": [
      "index: 0\n",
      "ticket: 348342800\n",
      "index: 1\n",
      "ticket: 348344318\n",
      "index: 2\n",
      "ticket: 343560310\n",
      "index: 3\n",
      "ticket: 348376971\n",
      "index: 4\n",
      "ticket: 348388616\n",
      "index: 5\n",
      "ticket: 348395199\n",
      "index: 6\n",
      "ticket: 348405986\n",
      "index: 7\n",
      "ticket: 348414135\n",
      "index: 8\n",
      "ticket: 348414173\n",
      "index: 9\n",
      "ticket: 348089071\n"
     ]
    }
   ],
   "source": [
    "for i, row in df[:10].iterrows():\n",
    "    print(f\"index: {i}\")\n",
    "    print(f\"ticket: {row['ticket_id']}\")"
   ]
  },
  {
   "cell_type": "code",
   "execution_count": 23,
   "id": "5767588a-aa18-4982-a2f9-e1f3225bb01f",
   "metadata": {},
   "outputs": [
    {
     "ename": "KeyError",
     "evalue": "0",
     "output_type": "error",
     "traceback": [
      "\u001b[31m---------------------------------------------------------------------------\u001b[39m",
      "\u001b[31mKeyError\u001b[39m                                  Traceback (most recent call last)",
      "\u001b[36mFile \u001b[39m\u001b[32m~/personal/ai-hack/.venv/lib/python3.12/site-packages/pandas/core/indexes/base.py:3805\u001b[39m, in \u001b[36mIndex.get_loc\u001b[39m\u001b[34m(self, key)\u001b[39m\n\u001b[32m   3804\u001b[39m \u001b[38;5;28;01mtry\u001b[39;00m:\n\u001b[32m-> \u001b[39m\u001b[32m3805\u001b[39m     \u001b[38;5;28;01mreturn\u001b[39;00m \u001b[38;5;28;43mself\u001b[39;49m\u001b[43m.\u001b[49m\u001b[43m_engine\u001b[49m\u001b[43m.\u001b[49m\u001b[43mget_loc\u001b[49m\u001b[43m(\u001b[49m\u001b[43mcasted_key\u001b[49m\u001b[43m)\u001b[49m\n\u001b[32m   3806\u001b[39m \u001b[38;5;28;01mexcept\u001b[39;00m \u001b[38;5;167;01mKeyError\u001b[39;00m \u001b[38;5;28;01mas\u001b[39;00m err:\n",
      "\u001b[36mFile \u001b[39m\u001b[32mindex.pyx:167\u001b[39m, in \u001b[36mpandas._libs.index.IndexEngine.get_loc\u001b[39m\u001b[34m()\u001b[39m\n",
      "\u001b[36mFile \u001b[39m\u001b[32mindex.pyx:196\u001b[39m, in \u001b[36mpandas._libs.index.IndexEngine.get_loc\u001b[39m\u001b[34m()\u001b[39m\n",
      "\u001b[36mFile \u001b[39m\u001b[32mpandas/_libs/hashtable_class_helper.pxi:7081\u001b[39m, in \u001b[36mpandas._libs.hashtable.PyObjectHashTable.get_item\u001b[39m\u001b[34m()\u001b[39m\n",
      "\u001b[36mFile \u001b[39m\u001b[32mpandas/_libs/hashtable_class_helper.pxi:7089\u001b[39m, in \u001b[36mpandas._libs.hashtable.PyObjectHashTable.get_item\u001b[39m\u001b[34m()\u001b[39m\n",
      "\u001b[31mKeyError\u001b[39m: 0",
      "\nThe above exception was the direct cause of the following exception:\n",
      "\u001b[31mKeyError\u001b[39m                                  Traceback (most recent call last)",
      "\u001b[36mCell\u001b[39m\u001b[36m \u001b[39m\u001b[32mIn[23]\u001b[39m\u001b[32m, line 1\u001b[39m\n\u001b[32m----> \u001b[39m\u001b[32m1\u001b[39m \u001b[43mdf\u001b[49m\u001b[43m[\u001b[49m\u001b[32;43m0\u001b[39;49m\u001b[43m]\u001b[49m\n",
      "\u001b[36mFile \u001b[39m\u001b[32m~/personal/ai-hack/.venv/lib/python3.12/site-packages/pandas/core/frame.py:4102\u001b[39m, in \u001b[36mDataFrame.__getitem__\u001b[39m\u001b[34m(self, key)\u001b[39m\n\u001b[32m   4100\u001b[39m \u001b[38;5;28;01mif\u001b[39;00m \u001b[38;5;28mself\u001b[39m.columns.nlevels > \u001b[32m1\u001b[39m:\n\u001b[32m   4101\u001b[39m     \u001b[38;5;28;01mreturn\u001b[39;00m \u001b[38;5;28mself\u001b[39m._getitem_multilevel(key)\n\u001b[32m-> \u001b[39m\u001b[32m4102\u001b[39m indexer = \u001b[38;5;28;43mself\u001b[39;49m\u001b[43m.\u001b[49m\u001b[43mcolumns\u001b[49m\u001b[43m.\u001b[49m\u001b[43mget_loc\u001b[49m\u001b[43m(\u001b[49m\u001b[43mkey\u001b[49m\u001b[43m)\u001b[49m\n\u001b[32m   4103\u001b[39m \u001b[38;5;28;01mif\u001b[39;00m is_integer(indexer):\n\u001b[32m   4104\u001b[39m     indexer = [indexer]\n",
      "\u001b[36mFile \u001b[39m\u001b[32m~/personal/ai-hack/.venv/lib/python3.12/site-packages/pandas/core/indexes/base.py:3812\u001b[39m, in \u001b[36mIndex.get_loc\u001b[39m\u001b[34m(self, key)\u001b[39m\n\u001b[32m   3807\u001b[39m     \u001b[38;5;28;01mif\u001b[39;00m \u001b[38;5;28misinstance\u001b[39m(casted_key, \u001b[38;5;28mslice\u001b[39m) \u001b[38;5;129;01mor\u001b[39;00m (\n\u001b[32m   3808\u001b[39m         \u001b[38;5;28misinstance\u001b[39m(casted_key, abc.Iterable)\n\u001b[32m   3809\u001b[39m         \u001b[38;5;129;01mand\u001b[39;00m \u001b[38;5;28many\u001b[39m(\u001b[38;5;28misinstance\u001b[39m(x, \u001b[38;5;28mslice\u001b[39m) \u001b[38;5;28;01mfor\u001b[39;00m x \u001b[38;5;129;01min\u001b[39;00m casted_key)\n\u001b[32m   3810\u001b[39m     ):\n\u001b[32m   3811\u001b[39m         \u001b[38;5;28;01mraise\u001b[39;00m InvalidIndexError(key)\n\u001b[32m-> \u001b[39m\u001b[32m3812\u001b[39m     \u001b[38;5;28;01mraise\u001b[39;00m \u001b[38;5;167;01mKeyError\u001b[39;00m(key) \u001b[38;5;28;01mfrom\u001b[39;00m\u001b[38;5;250m \u001b[39m\u001b[34;01merr\u001b[39;00m\n\u001b[32m   3813\u001b[39m \u001b[38;5;28;01mexcept\u001b[39;00m \u001b[38;5;167;01mTypeError\u001b[39;00m:\n\u001b[32m   3814\u001b[39m     \u001b[38;5;66;03m# If we have a listlike key, _check_indexing_error will raise\u001b[39;00m\n\u001b[32m   3815\u001b[39m     \u001b[38;5;66;03m#  InvalidIndexError. Otherwise we fall through and re-raise\u001b[39;00m\n\u001b[32m   3816\u001b[39m     \u001b[38;5;66;03m#  the TypeError.\u001b[39;00m\n\u001b[32m   3817\u001b[39m     \u001b[38;5;28mself\u001b[39m._check_indexing_error(key)\n",
      "\u001b[31mKeyError\u001b[39m: 0"
     ]
    }
   ],
   "source": [
    "df[0]"
   ]
  },
  {
   "cell_type": "code",
   "execution_count": 24,
   "id": "57b8f8f2-7a89-41d3-8dd7-23a0e7484eb6",
   "metadata": {},
   "outputs": [
    {
     "ename": "KeyError",
     "evalue": "1",
     "output_type": "error",
     "traceback": [
      "\u001b[31m---------------------------------------------------------------------------\u001b[39m",
      "\u001b[31mKeyError\u001b[39m                                  Traceback (most recent call last)",
      "\u001b[36mFile \u001b[39m\u001b[32m~/personal/ai-hack/.venv/lib/python3.12/site-packages/pandas/core/indexes/base.py:3805\u001b[39m, in \u001b[36mIndex.get_loc\u001b[39m\u001b[34m(self, key)\u001b[39m\n\u001b[32m   3804\u001b[39m \u001b[38;5;28;01mtry\u001b[39;00m:\n\u001b[32m-> \u001b[39m\u001b[32m3805\u001b[39m     \u001b[38;5;28;01mreturn\u001b[39;00m \u001b[38;5;28;43mself\u001b[39;49m\u001b[43m.\u001b[49m\u001b[43m_engine\u001b[49m\u001b[43m.\u001b[49m\u001b[43mget_loc\u001b[49m\u001b[43m(\u001b[49m\u001b[43mcasted_key\u001b[49m\u001b[43m)\u001b[49m\n\u001b[32m   3806\u001b[39m \u001b[38;5;28;01mexcept\u001b[39;00m \u001b[38;5;167;01mKeyError\u001b[39;00m \u001b[38;5;28;01mas\u001b[39;00m err:\n",
      "\u001b[36mFile \u001b[39m\u001b[32mindex.pyx:167\u001b[39m, in \u001b[36mpandas._libs.index.IndexEngine.get_loc\u001b[39m\u001b[34m()\u001b[39m\n",
      "\u001b[36mFile \u001b[39m\u001b[32mindex.pyx:196\u001b[39m, in \u001b[36mpandas._libs.index.IndexEngine.get_loc\u001b[39m\u001b[34m()\u001b[39m\n",
      "\u001b[36mFile \u001b[39m\u001b[32mpandas/_libs/hashtable_class_helper.pxi:7081\u001b[39m, in \u001b[36mpandas._libs.hashtable.PyObjectHashTable.get_item\u001b[39m\u001b[34m()\u001b[39m\n",
      "\u001b[36mFile \u001b[39m\u001b[32mpandas/_libs/hashtable_class_helper.pxi:7089\u001b[39m, in \u001b[36mpandas._libs.hashtable.PyObjectHashTable.get_item\u001b[39m\u001b[34m()\u001b[39m\n",
      "\u001b[31mKeyError\u001b[39m: 1",
      "\nThe above exception was the direct cause of the following exception:\n",
      "\u001b[31mKeyError\u001b[39m                                  Traceback (most recent call last)",
      "\u001b[36mCell\u001b[39m\u001b[36m \u001b[39m\u001b[32mIn[24]\u001b[39m\u001b[32m, line 1\u001b[39m\n\u001b[32m----> \u001b[39m\u001b[32m1\u001b[39m \u001b[43mdf\u001b[49m\u001b[43m[\u001b[49m\u001b[32;43m1\u001b[39;49m\u001b[43m]\u001b[49m\n",
      "\u001b[36mFile \u001b[39m\u001b[32m~/personal/ai-hack/.venv/lib/python3.12/site-packages/pandas/core/frame.py:4102\u001b[39m, in \u001b[36mDataFrame.__getitem__\u001b[39m\u001b[34m(self, key)\u001b[39m\n\u001b[32m   4100\u001b[39m \u001b[38;5;28;01mif\u001b[39;00m \u001b[38;5;28mself\u001b[39m.columns.nlevels > \u001b[32m1\u001b[39m:\n\u001b[32m   4101\u001b[39m     \u001b[38;5;28;01mreturn\u001b[39;00m \u001b[38;5;28mself\u001b[39m._getitem_multilevel(key)\n\u001b[32m-> \u001b[39m\u001b[32m4102\u001b[39m indexer = \u001b[38;5;28;43mself\u001b[39;49m\u001b[43m.\u001b[49m\u001b[43mcolumns\u001b[49m\u001b[43m.\u001b[49m\u001b[43mget_loc\u001b[49m\u001b[43m(\u001b[49m\u001b[43mkey\u001b[49m\u001b[43m)\u001b[49m\n\u001b[32m   4103\u001b[39m \u001b[38;5;28;01mif\u001b[39;00m is_integer(indexer):\n\u001b[32m   4104\u001b[39m     indexer = [indexer]\n",
      "\u001b[36mFile \u001b[39m\u001b[32m~/personal/ai-hack/.venv/lib/python3.12/site-packages/pandas/core/indexes/base.py:3812\u001b[39m, in \u001b[36mIndex.get_loc\u001b[39m\u001b[34m(self, key)\u001b[39m\n\u001b[32m   3807\u001b[39m     \u001b[38;5;28;01mif\u001b[39;00m \u001b[38;5;28misinstance\u001b[39m(casted_key, \u001b[38;5;28mslice\u001b[39m) \u001b[38;5;129;01mor\u001b[39;00m (\n\u001b[32m   3808\u001b[39m         \u001b[38;5;28misinstance\u001b[39m(casted_key, abc.Iterable)\n\u001b[32m   3809\u001b[39m         \u001b[38;5;129;01mand\u001b[39;00m \u001b[38;5;28many\u001b[39m(\u001b[38;5;28misinstance\u001b[39m(x, \u001b[38;5;28mslice\u001b[39m) \u001b[38;5;28;01mfor\u001b[39;00m x \u001b[38;5;129;01min\u001b[39;00m casted_key)\n\u001b[32m   3810\u001b[39m     ):\n\u001b[32m   3811\u001b[39m         \u001b[38;5;28;01mraise\u001b[39;00m InvalidIndexError(key)\n\u001b[32m-> \u001b[39m\u001b[32m3812\u001b[39m     \u001b[38;5;28;01mraise\u001b[39;00m \u001b[38;5;167;01mKeyError\u001b[39;00m(key) \u001b[38;5;28;01mfrom\u001b[39;00m\u001b[38;5;250m \u001b[39m\u001b[34;01merr\u001b[39;00m\n\u001b[32m   3813\u001b[39m \u001b[38;5;28;01mexcept\u001b[39;00m \u001b[38;5;167;01mTypeError\u001b[39;00m:\n\u001b[32m   3814\u001b[39m     \u001b[38;5;66;03m# If we have a listlike key, _check_indexing_error will raise\u001b[39;00m\n\u001b[32m   3815\u001b[39m     \u001b[38;5;66;03m#  InvalidIndexError. Otherwise we fall through and re-raise\u001b[39;00m\n\u001b[32m   3816\u001b[39m     \u001b[38;5;66;03m#  the TypeError.\u001b[39;00m\n\u001b[32m   3817\u001b[39m     \u001b[38;5;28mself\u001b[39m._check_indexing_error(key)\n",
      "\u001b[31mKeyError\u001b[39m: 1"
     ]
    }
   ],
   "source": [
    "df[1]"
   ]
  },
  {
   "cell_type": "code",
   "execution_count": null,
   "id": "35d4fdf9-dc5a-4c36-a31a-6b316b439022",
   "metadata": {},
   "outputs": [],
   "source": []
  }
 ],
 "metadata": {
  "kernelspec": {
   "display_name": "Python 3 (ipykernel)",
   "language": "python",
   "name": "python3"
  },
  "language_info": {
   "codemirror_mode": {
    "name": "ipython",
    "version": 3
   },
   "file_extension": ".py",
   "mimetype": "text/x-python",
   "name": "python",
   "nbconvert_exporter": "python",
   "pygments_lexer": "ipython3",
   "version": "3.12.9"
  }
 },
 "nbformat": 4,
 "nbformat_minor": 5
}
