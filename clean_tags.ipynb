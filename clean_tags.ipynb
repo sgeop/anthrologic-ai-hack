{
 "cells": [
  {
   "cell_type": "code",
   "execution_count": 1,
   "id": "35e47349-a5da-4d2e-aeee-c9eeb2b8ff69",
   "metadata": {},
   "outputs": [
    {
     "name": "stderr",
     "output_type": "stream",
     "text": [
      "Matplotlib is building the font cache; this may take a moment.\n"
     ]
    }
   ],
   "source": [
    "import polars as pl\n",
    "from skrub import deduplicate"
   ]
  },
  {
   "cell_type": "code",
   "execution_count": null,
   "id": "4036cb2e-4d6b-4cb6-81e7-cf4d062ebf0b",
   "metadata": {},
   "outputs": [],
   "source": [
    "def normalize(tag: str) -> str:\n",
    "    parts = tag.split('/')\n",
    "    return parts"
   ]
  },
  {
   "cell_type": "code",
   "execution_count": null,
   "id": "c4f74e04-bafb-455f-9344-42e2c0c8057e",
   "metadata": {},
   "outputs": [],
   "source": [
    "tickets = pl.read_csv(\"tickets.csv\")"
   ]
  },
  {
   "cell_type": "code",
   "execution_count": null,
   "id": "d61b5fde-307b-4175-9e13-78012a89d378",
   "metadata": {},
   "outputs": [],
   "source": [
    "tickets.with_columns(pl.select(pl.col('tags')).str.split(\",\").alias(\"tags_list\"))"
   ]
  },
  {
   "cell_type": "code",
   "execution_count": null,
   "id": "f2edc5b8-c200-475c-88d9-65e70e121c8e",
   "metadata": {},
   "outputs": [],
   "source": [
    "tickets.columns"
   ]
  },
  {
   "cell_type": "code",
   "execution_count": null,
   "id": "471f1c09-ea15-40f3-9ad6-87589a2f256a",
   "metadata": {},
   "outputs": [],
   "source": [
    "def tags_listed(alias: str):\n",
    "    strip_lower = pl.element().str.strip_chars(\" \").str.to_lowercase().str.replace(r\"\\s\", \"-\")\n",
    "    foreach_tag = pl.element().str.split(\"/\").list.eval(strip_lower).list.join(\"/\")\n",
    "    select_tags = pl.col(\"tags\").str.split(\",\").list.eval(foreach_tag).alias(alias)\n",
    "    return tickets.select(select_tags)\n",
    "\n",
    "# tickets.select(pl.col(\"tags\").str.split(\",\").list.eval(pl.element().str.strip_chars(\" \").str.to_lowercase()))\n",
    "# tickets.with_columns(tickets.select(\n",
    "#     pl.col(\"tags\").str.split(\",\").list.eval(strip_lower)\n",
    "# ))\n",
    "\n",
    "tickets = tickets.with_columns(tags_listed(\"tags_list\"))"
   ]
  },
  {
   "cell_type": "code",
   "execution_count": null,
   "id": "1d4b4c29-60e4-403c-93e0-c7d6ed2ca509",
   "metadata": {},
   "outputs": [],
   "source": [
    "tickets.select(pl.col(\"ticket_id\"), pl.col(\"tags_list\")).explode(\"tags_list\")"
   ]
  },
  {
   "cell_type": "code",
   "execution_count": null,
   "id": "71cb20cb-8b4e-45ad-bcc2-881166c8d0f4",
   "metadata": {},
   "outputs": [],
   "source": [
    "tags = tickets.explode(\"tags_list\").select(pl.col(\"tags_list\").alias(\"tag\"), pl.\n",
    "\n",
    "tags"
   ]
  },
  {
   "cell_type": "code",
   "execution_count": null,
   "id": "9c4cb67c-0673-448e-84bb-e198f756484f",
   "metadata": {},
   "outputs": [],
   "source": [
    "import load_data"
   ]
  },
  {
   "cell_type": "code",
   "execution_count": null,
   "id": "33affd6d-99bb-422a-b279-73f6d0f7b46c",
   "metadata": {},
   "outputs": [],
   "source": [
    "def ticks_list():\n",
    "    strip_lower = pl.element().str.strip_chars(\" \").str.to_lowercase().str.replace(r\"\\s\", \"-\")\n",
    "    foreach_tag = pl.element().str.split(\"/\").list.eval(strip_lower).list.join(\"/\")\n",
    "    select_tags = pl.col(\"tags\").str.split(\",\").list.eval(foreach_tag)\n",
    "    return select_tags\n",
    "\n",
    "def clean_tags():\n",
    "    normalize = pl.element().str.strip_chars(\" \").str.to_lowercase().str.replace(r\"\\s\", \"-\")\n",
    "    clean_tag = pl.element().str.split(\"/\").list.eval(normalize).list.join(\"/\")\n",
    "    q = pl.col(\"tags\").str.split(\",\").list.eval(clean_tag)\n",
    "    return q\n"
   ]
  },
  {
   "cell_type": "code",
   "execution_count": null,
   "id": "eecbdf76-84d5-4f4b-a54e-8c3adf81c17d",
   "metadata": {},
   "outputs": [],
   "source": [
    "tickets = load_data.get_tickets()\n",
    "# tickets = pl.read_csv(\"data/tickets.csv\")\n",
    "tickets"
   ]
  },
  {
   "cell_type": "code",
   "execution_count": null,
   "id": "11932565-39b7-47be-bac8-6a6855d663ba",
   "metadata": {},
   "outputs": [],
   "source": [
    "tickets.explode(\"tags\").group_by(pl.col(\"tags\").alias(\"tag\")).agg(\n",
    "    pl.len().alias(\"count\"),\n",
    "    pl.col(\"ticket_id\").alias(\"ticket_ids\"),\n",
    ").sort(\"count\", descending=True)"
   ]
  },
  {
   "cell_type": "code",
   "execution_count": null,
   "id": "e91dce36-2bdb-481a-9668-496a8a292768",
   "metadata": {},
   "outputs": [],
   "source": [
    "df = tickets.select(pl.col(\"ticket_id\"), pl.col(\"body_text\"), pl.col(\"tags\")).to_pandas()"
   ]
  },
  {
   "cell_type": "code",
   "execution_count": null,
   "id": "d8802068-3e02-497e-9653-c24cb4f55122",
   "metadata": {},
   "outputs": [],
   "source": [
    "df[:5]"
   ]
  },
  {
   "cell_type": "code",
   "execution_count": null,
   "id": "c6fd0209-6d85-4a34-94a8-edb8c03247d2",
   "metadata": {},
   "outputs": [],
   "source": [
    "for i, row in df[:10].iterrows():\n",
    "    print(f\"index: {i}\")\n",
    "    print(f\"ticket: {row['ticket_id']}\")"
   ]
  },
  {
   "cell_type": "code",
   "execution_count": null,
   "id": "35d4fdf9-dc5a-4c36-a31a-6b316b439022",
   "metadata": {},
   "outputs": [],
   "source": []
  }
 ],
 "metadata": {
  "kernelspec": {
   "display_name": "Python 3 (ipykernel)",
   "language": "python",
   "name": "python3"
  },
  "language_info": {
   "codemirror_mode": {
    "name": "ipython",
    "version": 3
   },
   "file_extension": ".py",
   "mimetype": "text/x-python",
   "name": "python",
   "nbconvert_exporter": "python",
   "pygments_lexer": "ipython3",
   "version": "3.12.9"
  }
 },
 "nbformat": 4,
 "nbformat_minor": 5
}
