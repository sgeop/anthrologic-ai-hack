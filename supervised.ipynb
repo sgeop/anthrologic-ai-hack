{
 "cells": [
  {
   "cell_type": "code",
   "execution_count": 4,
   "id": "874caaef-9971-42f4-82ab-c20a935b6cb0",
   "metadata": {},
   "outputs": [],
   "source": [
    "import loader\n",
    "import supervised"
   ]
  },
  {
   "cell_type": "code",
   "execution_count": 2,
   "id": "41b2fa22-68af-4d68-846e-0f217c97cb20",
   "metadata": {},
   "outputs": [],
   "source": [
    "THRESHOLD_NORM = 0.01\n",
    "\n",
    "tickets = loader.get_tickets()\n",
    "labels = loader.indexed_labels(tickets, threshold_norm=THRESHOLD_NORM)\n",
    "text_labels = labels.select(\"label_text\").to_series().to_list()\n",
    "data = loader.to_dataset(tickets, threshold_norm=THRESHOLD_NORM).train_test_split(\n",
    "    test_size=0.02\n",
    ")"
   ]
  },
  {
   "cell_type": "code",
   "execution_count": 3,
   "id": "adac78dc-dd5f-4ec2-95da-4fd9f0a0cec2",
   "metadata": {},
   "outputs": [
    {
     "data": {
      "text/plain": [
       "DatasetDict({\n",
       "    train: Dataset({\n",
       "        features: ['ticket_id', 'text', 'tags', 'label_text', 'label', 'label_count'],\n",
       "        num_rows: 1665\n",
       "    })\n",
       "    test: Dataset({\n",
       "        features: ['ticket_id', 'text', 'tags', 'label_text', 'label', 'label_count'],\n",
       "        num_rows: 34\n",
       "    })\n",
       "})"
      ]
     },
     "execution_count": 3,
     "metadata": {},
     "output_type": "execute_result"
    }
   ],
   "source": [
    "data"
   ]
  },
  {
   "cell_type": "code",
   "execution_count": 10,
   "id": "69ca0373-af4a-49f9-908a-c9644abe7737",
   "metadata": {},
   "outputs": [
    {
     "data": {
      "text/plain": [
       "['internal_log',\n",
       " 'cancel_do_not_like',\n",
       " 'complaint_smell_taste',\n",
       " 'complaint_nausea',\n",
       " 'cancel_no_reason',\n",
       " 'complaint_quality',\n",
       " 'complaint_side_effects',\n",
       " 'product_sensitivity_smell_taste',\n",
       " 'cancel_other',\n",
       " 'refund_courtesy',\n",
       " 'general_product_product',\n",
       " 'general_product_safety',\n",
       " 'product_sensitivity_nausea']"
      ]
     },
     "execution_count": 10,
     "metadata": {},
     "output_type": "execute_result"
    }
   ],
   "source": [
    "text_labels"
   ]
  },
  {
   "cell_type": "code",
   "execution_count": 5,
   "id": "7ee312f0-ecd6-4580-bd90-e878c4dfb2e4",
   "metadata": {},
   "outputs": [],
   "source": [
    "model = supervised.LabelInference(data['train'], text_labels)"
   ]
  },
  {
   "cell_type": "code",
   "execution_count": 6,
   "id": "8b35f282-79bb-4247-bcf4-9b0aad5f5bbf",
   "metadata": {},
   "outputs": [
    {
     "data": {
      "text/plain": [
       "'complaint_nausea'"
      ]
     },
     "execution_count": 6,
     "metadata": {},
     "output_type": "execute_result"
    }
   ],
   "source": [
    "# test prediction on made-up input\n",
    "model.predict(\"I want to return my order because it made me nauseous\")"
   ]
  },
  {
   "cell_type": "code",
   "execution_count": 7,
   "id": "636b722e-a7cb-4e1b-9a64-a300a62c67ec",
   "metadata": {},
   "outputs": [
    {
     "data": {
      "application/vnd.jupyter.widget-view+json": {
       "model_id": "27056898f17449fbb1f022a9a9d13635",
       "version_major": 2,
       "version_minor": 0
      },
      "text/plain": [
       "Map:   0%|          | 0/34 [00:00<?, ? examples/s]"
      ]
     },
     "metadata": {},
     "output_type": "display_data"
    }
   ],
   "source": [
    "results = model.evaluate(data['test'])"
   ]
  },
  {
   "cell_type": "code",
   "execution_count": 9,
   "id": "d4471fe4-7aa0-42ae-8696-7b98d162a3c5",
   "metadata": {},
   "outputs": [
    {
     "data": {
      "text/plain": [
       "0.7647058823529411"
      ]
     },
     "execution_count": 9,
     "metadata": {},
     "output_type": "execute_result"
    }
   ],
   "source": [
    "# calculate percentage of correct matches\n",
    "matched = results['match']\n",
    "percent_matched = sum(matched) / len(matched)\n",
    "percent_matched"
   ]
  },
  {
   "cell_type": "code",
   "execution_count": null,
   "id": "309e7e0a-6849-4789-93b4-5a5e50135f8a",
   "metadata": {},
   "outputs": [],
   "source": []
  }
 ],
 "metadata": {
  "kernelspec": {
   "display_name": "Python 3 (ipykernel)",
   "language": "python",
   "name": "python3"
  },
  "language_info": {
   "codemirror_mode": {
    "name": "ipython",
    "version": 3
   },
   "file_extension": ".py",
   "mimetype": "text/x-python",
   "name": "python",
   "nbconvert_exporter": "python",
   "pygments_lexer": "ipython3",
   "version": "3.12.9"
  }
 },
 "nbformat": 4,
 "nbformat_minor": 5
}
